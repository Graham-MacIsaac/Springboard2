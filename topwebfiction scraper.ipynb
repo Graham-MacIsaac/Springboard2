{
 "cells": [
  {
   "cell_type": "code",
   "execution_count": 1,
   "id": "5bc2a4eb",
   "metadata": {},
   "outputs": [],
   "source": [
    "import requests\n",
    "import re\n",
    "from bs4 import BeautifulSoup\n",
    "from urllib.request import urlopen"
   ]
  },
  {
   "cell_type": "code",
   "execution_count": 2,
   "id": "8e1155e0",
   "metadata": {},
   "outputs": [],
   "source": [
    "response = requests.get(\"https://topwebfiction.com/?ranking=at\")\n",
    "soup = BeautifulSoup(response.text, 'html.parser')\n",
    "story_titles = soup.findAll('span', attrs={\"class\":\"title\"})\n",
    "\n",
    "titles = []\n",
    "for row in story_titles:\n",
    "    titles.append(row.text.strip())"
   ]
  },
  {
   "cell_type": "code",
   "execution_count": 3,
   "id": "a5acc0ca",
   "metadata": {},
   "outputs": [
    {
     "data": {
      "text/plain": [
       "['A Practical Guide to Evil',\n",
       " 'Worm',\n",
       " 'Ward',\n",
       " 'The Wandering Inn',\n",
       " 'Metaworld Chronicles']"
      ]
     },
     "execution_count": 3,
     "metadata": {},
     "output_type": "execute_result"
    }
   ],
   "source": [
    "titles[0:5]"
   ]
  },
  {
   "cell_type": "code",
   "execution_count": 4,
   "id": "9575ddd7",
   "metadata": {},
   "outputs": [],
   "source": [
    "story_authors = soup.findAll('span', attrs={\"class\":\"byline\"})\n",
    "\n",
    "authors = []\n",
    "for row in story_authors:\n",
    "    authors.append(row.text.strip())\n",
    "\n",
    "for x in range(len(authors)):\n",
    "    authors[x] = re.sub('by ','',authors[x])"
   ]
  },
  {
   "cell_type": "code",
   "execution_count": 5,
   "id": "6d32f10f",
   "metadata": {},
   "outputs": [
    {
     "data": {
      "text/plain": [
       "['ErraticErrata', 'Wildbow', 'wildbow', 'pirateaba', 'Wutosama']"
      ]
     },
     "execution_count": 5,
     "metadata": {},
     "output_type": "execute_result"
    }
   ],
   "source": [
    "authors[0:5]"
   ]
  },
  {
   "cell_type": "code",
   "execution_count": 6,
   "id": "88129cd1",
   "metadata": {
    "scrolled": false
   },
   "outputs": [],
   "source": [
    "story_votes = soup.findAll('td', attrs={\"class\":\"info\"})\n",
    "votes = []\n",
    "for x in story_votes:\n",
    "    votes.append(x.text)\n",
    "votes2 = votes\n",
    "for x in range(len(votes)):\n",
    "    votes2[x] = re.sub(r'\\n', '', str(votes[x]))\n",
    "    votes2[x] = re.sub(r'\\xa0boosters', '', str(votes2[x]))"
   ]
  },
  {
   "cell_type": "code",
   "execution_count": 7,
   "id": "c3b9abf8",
   "metadata": {},
   "outputs": [
    {
     "data": {
      "text/plain": [
       "['51224', '39838', '24378', '23897', '20918']"
      ]
     },
     "execution_count": 7,
     "metadata": {},
     "output_type": "execute_result"
    }
   ],
   "source": [
    "votes2[0:5]"
   ]
  },
  {
   "cell_type": "code",
   "execution_count": 8,
   "id": "b908b622",
   "metadata": {},
   "outputs": [],
   "source": [
    "story_tags = soup.findAll('p', attrs={\"class\":\"tags\"})\n",
    "tags = []\n",
    "for x in story_tags:\n",
    "    tags.append(x.text)"
   ]
  },
  {
   "cell_type": "code",
   "execution_count": 9,
   "id": "e3f4f12d",
   "metadata": {},
   "outputs": [
    {
     "data": {
      "text/plain": [
       "[['adventure',\n",
       "  'anti-hero',\n",
       "  'coming-of-age',\n",
       "  'fantasy',\n",
       "  'magic',\n",
       "  'young-adult',\n",
       "  ''],\n",
       " ['action',\n",
       "  'adventure',\n",
       "  'complete',\n",
       "  'crime',\n",
       "  'dark',\n",
       "  'high-school',\n",
       "  'modern-supernatural',\n",
       "  'superhero',\n",
       "  'teenagers',\n",
       "  '']]"
      ]
     },
     "execution_count": 9,
     "metadata": {},
     "output_type": "execute_result"
    }
   ],
   "source": [
    "for x in range(len(tags)):\n",
    "    tags[x] = re.sub(' ', '-', str(tags[x]))\n",
    "    tags[x] = re.sub(r'\\n', ' ', str(tags[x]))\n",
    "    tags[x] = re.split(' ', str(tags[x]))\n",
    "tags[0:2]"
   ]
  },
  {
   "cell_type": "code",
   "execution_count": 10,
   "id": "8421b12f",
   "metadata": {},
   "outputs": [],
   "source": [
    "links = []\n",
    "for link in soup.find_all('a', attrs={'href': re.compile(\"^https://topwebfiction.com/listings/\")}):\n",
    "    # display the actual urls\n",
    "    links.append(link.get('href'))  "
   ]
  },
  {
   "cell_type": "code",
   "execution_count": 11,
   "id": "adcd357f",
   "metadata": {},
   "outputs": [
    {
     "data": {
      "text/plain": [
       "['https://topwebfiction.com/listings/a-practical-guide-to-evil/',\n",
       " 'https://topwebfiction.com/listings/worm/',\n",
       " 'https://topwebfiction.com/listings/ward/',\n",
       " 'https://topwebfiction.com/listings/the-wandering-inn/',\n",
       " 'https://topwebfiction.com/listings/metaworld-chronicles/']"
      ]
     },
     "execution_count": 11,
     "metadata": {},
     "output_type": "execute_result"
    }
   ],
   "source": [
    "links[0:5]"
   ]
  },
  {
   "cell_type": "code",
   "execution_count": 12,
   "id": "2cde1f71",
   "metadata": {},
   "outputs": [
    {
     "ename": "NameError",
     "evalue": "name 'related_stories' is not defined",
     "output_type": "error",
     "traceback": [
      "\u001b[0;31m---------------------------------------------------------------------------\u001b[0m",
      "\u001b[0;31mNameError\u001b[0m                                 Traceback (most recent call last)",
      "\u001b[0;32m<ipython-input-12-c90dd2c9f9ae>\u001b[0m in \u001b[0;36m<module>\u001b[0;34m\u001b[0m\n\u001b[1;32m      4\u001b[0m     \u001b[0mrelated_stories_soup\u001b[0m \u001b[0;34m=\u001b[0m \u001b[0msoup\u001b[0m\u001b[0;34m.\u001b[0m\u001b[0mfindAll\u001b[0m\u001b[0;34m(\u001b[0m\u001b[0;34m'span'\u001b[0m\u001b[0;34m,\u001b[0m \u001b[0mattrs\u001b[0m\u001b[0;34m=\u001b[0m\u001b[0;34m{\u001b[0m\u001b[0;34m\"class\"\u001b[0m\u001b[0;34m:\u001b[0m\u001b[0;34m\"title\"\u001b[0m\u001b[0;34m}\u001b[0m\u001b[0;34m)\u001b[0m\u001b[0;34m\u001b[0m\u001b[0;34m\u001b[0m\u001b[0m\n\u001b[1;32m      5\u001b[0m     \u001b[0;32mfor\u001b[0m \u001b[0my\u001b[0m \u001b[0;32min\u001b[0m \u001b[0mrange\u001b[0m\u001b[0;34m(\u001b[0m\u001b[0mlen\u001b[0m\u001b[0;34m(\u001b[0m\u001b[0mlinks\u001b[0m\u001b[0;34m)\u001b[0m\u001b[0;34m)\u001b[0m\u001b[0;34m:\u001b[0m\u001b[0;34m\u001b[0m\u001b[0;34m\u001b[0m\u001b[0m\n\u001b[0;32m----> 6\u001b[0;31m         \u001b[0mrelated_stories\u001b[0m\u001b[0;34m[\u001b[0m\u001b[0my\u001b[0m\u001b[0;34m]\u001b[0m \u001b[0;34m=\u001b[0m \u001b[0;34m[\u001b[0m\u001b[0;34m]\u001b[0m\u001b[0;34m\u001b[0m\u001b[0;34m\u001b[0m\u001b[0m\n\u001b[0m\u001b[1;32m      7\u001b[0m         \u001b[0;32mfor\u001b[0m \u001b[0mx\u001b[0m \u001b[0;32min\u001b[0m \u001b[0mrelated_stories_soup\u001b[0m\u001b[0;34m:\u001b[0m\u001b[0;34m\u001b[0m\u001b[0;34m\u001b[0m\u001b[0m\n\u001b[1;32m      8\u001b[0m             \u001b[0mrelated_stories\u001b[0m\u001b[0;34m[\u001b[0m\u001b[0my\u001b[0m\u001b[0;34m]\u001b[0m\u001b[0;34m.\u001b[0m\u001b[0mappend\u001b[0m\u001b[0;34m(\u001b[0m\u001b[0mx\u001b[0m\u001b[0;34m.\u001b[0m\u001b[0mtext\u001b[0m\u001b[0;34m)\u001b[0m\u001b[0;34m\u001b[0m\u001b[0;34m\u001b[0m\u001b[0m\n",
      "\u001b[0;31mNameError\u001b[0m: name 'related_stories' is not defined"
     ]
    }
   ],
   "source": [
    "for x in links:\n",
    "    response = requests.get(x)\n",
    "    soup = BeautifulSoup(response.text, 'html.parser')\n",
    "    related_stories_soup = soup.findAll('span', attrs={\"class\":\"title\"})\n",
    "    for y in range(len(links)):        \n",
    "        related_stories[y] = []\n",
    "        for x in related_stories_soup:\n",
    "            related_stories[y].append(x.text)"
   ]
  },
  {
   "cell_type": "code",
   "execution_count": null,
   "id": "72dd06d9",
   "metadata": {},
   "outputs": [],
   "source": [
    "related_stories[0:5]"
   ]
  },
  {
   "cell_type": "code",
   "execution_count": null,
   "id": "add2a50e",
   "metadata": {},
   "outputs": [],
   "source": []
  }
 ],
 "metadata": {
  "kernelspec": {
   "display_name": "Python 3",
   "language": "python",
   "name": "python3"
  },
  "language_info": {
   "codemirror_mode": {
    "name": "ipython",
    "version": 3
   },
   "file_extension": ".py",
   "mimetype": "text/x-python",
   "name": "python",
   "nbconvert_exporter": "python",
   "pygments_lexer": "ipython3",
   "version": "3.8.8"
  }
 },
 "nbformat": 4,
 "nbformat_minor": 5
}
