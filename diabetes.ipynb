{
 "cells": [
  {
   "cell_type": "code",
   "execution_count": 1,
   "id": "d48f006f",
   "metadata": {},
   "outputs": [],
   "source": [
    "import pandas as pd"
   ]
  },
  {
   "cell_type": "code",
   "execution_count": 2,
   "id": "037e87f5",
   "metadata": {},
   "outputs": [],
   "source": [
    "df = pd.read_csv('/Users/grahamsmith/Documents/diabetes.csv')"
   ]
  },
  {
   "cell_type": "code",
   "execution_count": 3,
   "id": "95de1294",
   "metadata": {},
   "outputs": [
    {
     "data": {
      "text/plain": [
       "Index(['patient_number', 'cholesterol', 'glucose', 'hdl_chol',\n",
       "       'chol_hdl_ratio', 'age', 'gender', 'height', 'weight', 'bmi',\n",
       "       'systolic_bp', 'diastolic_bp', 'waist', 'hip', 'waist_hip_ratio',\n",
       "       'diabetes'],\n",
       "      dtype='object')"
      ]
     },
     "execution_count": 3,
     "metadata": {},
     "output_type": "execute_result"
    }
   ],
   "source": [
    "df.columns"
   ]
  },
  {
   "cell_type": "code",
   "execution_count": 25,
   "id": "55f3401a",
   "metadata": {},
   "outputs": [
    {
     "data": {
      "text/plain": [
       "'No diabetes'"
      ]
     },
     "execution_count": 25,
     "metadata": {},
     "output_type": "execute_result"
    }
   ],
   "source": [
    "df['diabetes'].iloc[1]"
   ]
  },
  {
   "cell_type": "code",
   "execution_count": null,
   "id": "79d57ff6",
   "metadata": {},
   "outputs": [],
   "source": [
    "df.iloc[0:10]"
   ]
  },
  {
   "cell_type": "code",
   "execution_count": 26,
   "id": "e440d088",
   "metadata": {},
   "outputs": [
    {
     "name": "stderr",
     "output_type": "stream",
     "text": [
      "/Users/grahamsmith/opt/anaconda3/lib/python3.8/site-packages/pandas/core/indexing.py:1637: SettingWithCopyWarning: \n",
      "A value is trying to be set on a copy of a slice from a DataFrame\n",
      "\n",
      "See the caveats in the documentation: https://pandas.pydata.org/pandas-docs/stable/user_guide/indexing.html#returning-a-view-versus-a-copy\n",
      "  self._setitem_single_block(indexer, value, name)\n"
     ]
    }
   ],
   "source": [
    "#convert categorical binary variables to 0/1\n",
    "\n",
    "for x in df.index:\n",
    "    if df['diabetes'].iloc[x] == 'No diabetes':\n",
    "        df['diabetes'].iloc[x] = 0\n",
    "    else:\n",
    "        df['diabetes'].iloc[x] = 1"
   ]
  },
  {
   "cell_type": "code",
   "execution_count": 28,
   "id": "48cd879a",
   "metadata": {},
   "outputs": [
    {
     "name": "stderr",
     "output_type": "stream",
     "text": [
      "/Users/grahamsmith/opt/anaconda3/lib/python3.8/site-packages/pandas/core/indexing.py:1637: SettingWithCopyWarning: \n",
      "A value is trying to be set on a copy of a slice from a DataFrame\n",
      "\n",
      "See the caveats in the documentation: https://pandas.pydata.org/pandas-docs/stable/user_guide/indexing.html#returning-a-view-versus-a-copy\n",
      "  self._setitem_single_block(indexer, value, name)\n"
     ]
    }
   ],
   "source": [
    "for x in df.index:\n",
    "    if df['gender'].iloc[x] == 'male':\n",
    "        df['gender'].iloc[x] = 0\n",
    "    else:\n",
    "        df['gender'].iloc[x] = 1"
   ]
  },
  {
   "cell_type": "code",
   "execution_count": 29,
   "id": "aade5607",
   "metadata": {},
   "outputs": [
    {
     "data": {
      "text/html": [
       "<div>\n",
       "<style scoped>\n",
       "    .dataframe tbody tr th:only-of-type {\n",
       "        vertical-align: middle;\n",
       "    }\n",
       "\n",
       "    .dataframe tbody tr th {\n",
       "        vertical-align: top;\n",
       "    }\n",
       "\n",
       "    .dataframe thead th {\n",
       "        text-align: right;\n",
       "    }\n",
       "</style>\n",
       "<table border=\"1\" class=\"dataframe\">\n",
       "  <thead>\n",
       "    <tr style=\"text-align: right;\">\n",
       "      <th></th>\n",
       "      <th>patient_number</th>\n",
       "      <th>cholesterol</th>\n",
       "      <th>glucose</th>\n",
       "      <th>hdl_chol</th>\n",
       "      <th>chol_hdl_ratio</th>\n",
       "      <th>age</th>\n",
       "      <th>gender</th>\n",
       "      <th>height</th>\n",
       "      <th>weight</th>\n",
       "      <th>bmi</th>\n",
       "      <th>systolic_bp</th>\n",
       "      <th>diastolic_bp</th>\n",
       "      <th>waist</th>\n",
       "      <th>hip</th>\n",
       "      <th>waist_hip_ratio</th>\n",
       "      <th>diabetes</th>\n",
       "    </tr>\n",
       "  </thead>\n",
       "  <tbody>\n",
       "    <tr>\n",
       "      <th>0</th>\n",
       "      <td>1</td>\n",
       "      <td>193</td>\n",
       "      <td>77</td>\n",
       "      <td>49</td>\n",
       "      <td>3,9</td>\n",
       "      <td>19</td>\n",
       "      <td>1</td>\n",
       "      <td>61</td>\n",
       "      <td>119</td>\n",
       "      <td>22,5</td>\n",
       "      <td>118</td>\n",
       "      <td>70</td>\n",
       "      <td>32</td>\n",
       "      <td>38</td>\n",
       "      <td>0,84</td>\n",
       "      <td>0</td>\n",
       "    </tr>\n",
       "    <tr>\n",
       "      <th>1</th>\n",
       "      <td>2</td>\n",
       "      <td>146</td>\n",
       "      <td>79</td>\n",
       "      <td>41</td>\n",
       "      <td>3,6</td>\n",
       "      <td>19</td>\n",
       "      <td>1</td>\n",
       "      <td>60</td>\n",
       "      <td>135</td>\n",
       "      <td>26,4</td>\n",
       "      <td>108</td>\n",
       "      <td>58</td>\n",
       "      <td>33</td>\n",
       "      <td>40</td>\n",
       "      <td>0,83</td>\n",
       "      <td>0</td>\n",
       "    </tr>\n",
       "    <tr>\n",
       "      <th>2</th>\n",
       "      <td>3</td>\n",
       "      <td>217</td>\n",
       "      <td>75</td>\n",
       "      <td>54</td>\n",
       "      <td>4</td>\n",
       "      <td>20</td>\n",
       "      <td>1</td>\n",
       "      <td>67</td>\n",
       "      <td>187</td>\n",
       "      <td>29,3</td>\n",
       "      <td>110</td>\n",
       "      <td>72</td>\n",
       "      <td>40</td>\n",
       "      <td>45</td>\n",
       "      <td>0,89</td>\n",
       "      <td>0</td>\n",
       "    </tr>\n",
       "    <tr>\n",
       "      <th>3</th>\n",
       "      <td>4</td>\n",
       "      <td>226</td>\n",
       "      <td>97</td>\n",
       "      <td>70</td>\n",
       "      <td>3,2</td>\n",
       "      <td>20</td>\n",
       "      <td>1</td>\n",
       "      <td>64</td>\n",
       "      <td>114</td>\n",
       "      <td>19,6</td>\n",
       "      <td>122</td>\n",
       "      <td>64</td>\n",
       "      <td>31</td>\n",
       "      <td>39</td>\n",
       "      <td>0,79</td>\n",
       "      <td>0</td>\n",
       "    </tr>\n",
       "    <tr>\n",
       "      <th>4</th>\n",
       "      <td>5</td>\n",
       "      <td>164</td>\n",
       "      <td>91</td>\n",
       "      <td>67</td>\n",
       "      <td>2,4</td>\n",
       "      <td>20</td>\n",
       "      <td>1</td>\n",
       "      <td>70</td>\n",
       "      <td>141</td>\n",
       "      <td>20,2</td>\n",
       "      <td>122</td>\n",
       "      <td>86</td>\n",
       "      <td>32</td>\n",
       "      <td>39</td>\n",
       "      <td>0,82</td>\n",
       "      <td>0</td>\n",
       "    </tr>\n",
       "  </tbody>\n",
       "</table>\n",
       "</div>"
      ],
      "text/plain": [
       "   patient_number  cholesterol  glucose  hdl_chol chol_hdl_ratio  age gender  \\\n",
       "0               1          193       77        49            3,9   19      1   \n",
       "1               2          146       79        41            3,6   19      1   \n",
       "2               3          217       75        54              4   20      1   \n",
       "3               4          226       97        70            3,2   20      1   \n",
       "4               5          164       91        67            2,4   20      1   \n",
       "\n",
       "   height  weight   bmi  systolic_bp  diastolic_bp  waist  hip  \\\n",
       "0      61     119  22,5          118            70     32   38   \n",
       "1      60     135  26,4          108            58     33   40   \n",
       "2      67     187  29,3          110            72     40   45   \n",
       "3      64     114  19,6          122            64     31   39   \n",
       "4      70     141  20,2          122            86     32   39   \n",
       "\n",
       "  waist_hip_ratio diabetes  \n",
       "0            0,84        0  \n",
       "1            0,83        0  \n",
       "2            0,89        0  \n",
       "3            0,79        0  \n",
       "4            0,82        0  "
      ]
     },
     "execution_count": 29,
     "metadata": {},
     "output_type": "execute_result"
    }
   ],
   "source": [
    "df.head()"
   ]
  },
  {
   "cell_type": "code",
   "execution_count": 30,
   "id": "c39eda81",
   "metadata": {},
   "outputs": [
    {
     "data": {
      "text/plain": [
       "patient_number        1\n",
       "cholesterol         193\n",
       "glucose              77\n",
       "hdl_chol             49\n",
       "chol_hdl_ratio      3,9\n",
       "age                  19\n",
       "gender                1\n",
       "height               61\n",
       "weight              119\n",
       "bmi                22,5\n",
       "systolic_bp         118\n",
       "diastolic_bp         70\n",
       "waist                32\n",
       "hip                  38\n",
       "waist_hip_ratio    0,84\n",
       "diabetes              0\n",
       "Name: 0, dtype: object"
      ]
     },
     "execution_count": 30,
     "metadata": {},
     "output_type": "execute_result"
    }
   ],
   "source": [
    "df.iloc[0]"
   ]
  }
 ],
 "metadata": {
  "kernelspec": {
   "display_name": "Python 3",
   "language": "python",
   "name": "python3"
  },
  "language_info": {
   "codemirror_mode": {
    "name": "ipython",
    "version": 3
   },
   "file_extension": ".py",
   "mimetype": "text/x-python",
   "name": "python",
   "nbconvert_exporter": "python",
   "pygments_lexer": "ipython3",
   "version": "3.8.8"
  }
 },
 "nbformat": 4,
 "nbformat_minor": 5
}
