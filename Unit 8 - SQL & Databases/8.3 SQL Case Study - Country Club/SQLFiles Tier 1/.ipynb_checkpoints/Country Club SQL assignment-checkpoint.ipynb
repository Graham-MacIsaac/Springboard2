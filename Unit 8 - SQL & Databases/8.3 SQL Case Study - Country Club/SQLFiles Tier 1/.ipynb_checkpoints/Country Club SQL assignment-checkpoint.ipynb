{
 "cells": [
  {
   "cell_type": "code",
   "execution_count": null,
   "id": "a4fb4583",
   "metadata": {},
   "outputs": [],
   "source": [
    "#Q1: Some of the facilities charge a fee to members, but some do not. \n",
    "#Write a SQL query to produce a list of the names of the facilities that do. \n",
    "\n",
    "SELECT * FROM `Facilities` WHERE membercost > 0;"
   ]
  },
  {
   "cell_type": "code",
   "execution_count": null,
   "id": "228c4b44",
   "metadata": {},
   "outputs": [],
   "source": [
    "#Q2: How many facilities do not charge a fee to members?\n",
    "\n",
    "6"
   ]
  },
  {
   "cell_type": "code",
   "execution_count": null,
   "id": "1387fdb0",
   "metadata": {},
   "outputs": [],
   "source": [
    "#Q3: Write an SQL query to show a list of facilities that charge a fee to members,\n",
    "#where the fee is less than 20% of the facility's monthly maintenance cost.\n",
    "#Return the facid, facility name, member cost, and monthly maintenance of the\n",
    "#facilities in question.\n",
    "\n",
    "SELECT facid, name, membercost, monthlymaintenance \n",
    "FROM `Facilities` \n",
    "WHERE membercost > 0 \n",
    "AND (membercost/monthlymaintenance) < 0.2;"
   ]
  },
  {
   "cell_type": "code",
   "execution_count": null,
   "id": "84b51bf9",
   "metadata": {},
   "outputs": [],
   "source": [
    "#Q4: Write an SQL query to retrieve the details of facilities with ID 1 and 5.\n",
    "#Try writing the query without using the OR operator\n",
    "\n",
    "SELECT *\n",
    "FROM `Facilities`\n",
    "WHERE facid\n",
    "IN ( 1, 5 )"
   ]
  },
  {
   "cell_type": "code",
   "execution_count": null,
   "id": "07a927cc",
   "metadata": {},
   "outputs": [],
   "source": [
    "#Q5: Produce a list of facilities, with each labelled as 'cheap' or 'expensive', depending on if their \n",
    "#monthly maintenance cost is more than $100. Return the name and monthly maintenance of the facilities in question.\n",
    "\n",
    "SELECT name, monthlymaintenance,\n",
    "CASE WHEN monthlymaintenance <=100\n",
    "THEN 'cheap'\n",
    "ELSE 'expensive'\n",
    "END AS label\n",
    "FROM `Facilities`"
   ]
  },
  {
   "cell_type": "code",
   "execution_count": null,
   "id": "c27ce97e",
   "metadata": {},
   "outputs": [],
   "source": [
    "#Q6: You'd like to get the first and last name of the last member(s)\n",
    "#who signed up. Try not to use the LIMIT clause for your solution.\n",
    "\n",
    "SELECT surname, firstname\n",
    "FROM `Members`\n",
    "WHERE joindate = (\n",
    "SELECT MAX( joindate )\n",
    "FROM `Members` )"
   ]
  },
  {
   "cell_type": "code",
   "execution_count": null,
   "id": "dc31ffa6",
   "metadata": {},
   "outputs": [],
   "source": [
    "#Q7: Produce a list of all members who have used a tennis court.\n",
    "#Include in your output the name of the court, and the name of the member\n",
    "#formatted as a single column. Ensure no duplicate data, and order by\n",
    "#the member name.\n",
    "\n",
    "SELECT DISTINCT CONCAT( m.firstname, ' ', m.surname ) AS member_name, f.name AS facility_name\n",
    "FROM `Bookings` AS b\n",
    "LEFT JOIN `Facilities` AS f ON b.facid = f.facid\n",
    "LEFT JOIN `Members` AS m ON b.memid = m.memid\n",
    "WHERE f.name LIKE 'Tennis%'\n",
    "ORDER BY member_name"
   ]
  },
  {
   "cell_type": "code",
   "execution_count": null,
   "id": "bafdec09",
   "metadata": {},
   "outputs": [],
   "source": [
    "#Q8: Produce a list of bookings on the day of 2012-09-14 which will cost the member (or guest) more than $30. \n",
    "#Remember that guests have different costs to members (the listed costs are per half-hour 'slot'), and \n",
    "#the guest user's ID is always 0. Include in your output the name of the facility, the name of the member formatted \n",
    "#as a single column, and the cost. Order by descending cost, and do not use any subqueries\n",
    "\n",
    "SELECT DISTINCT CONCAT( m.firstname, ' ', m.surname ) AS member_name, f.name AS facility_name,\n",
    "CASE WHEN b.memid =0\n",
    "THEN f.guestcost * b.slots\n",
    "ELSE f.membercost * b.slots\n",
    "END AS cost\n",
    "FROM `Bookings` AS b\n",
    "LEFT JOIN `Facilities` AS f ON b.facid = f.facid\n",
    "LEFT JOIN `Members` AS m ON b.memid = m.memid\n",
    "WHERE b.starttime LIKE '2012-09-14%'\n",
    "AND 30 <\n",
    "CASE WHEN b.memid =0\n",
    "THEN f.guestcost * b.slots\n",
    "ELSE f.membercost * b.slots\n",
    "END\n",
    "ORDER BY cost DESC"
   ]
  },
  {
   "cell_type": "code",
   "execution_count": null,
   "id": "c1623cf4",
   "metadata": {},
   "outputs": [],
   "source": [
    "#Q9: This time, produce the same result as in Q8, but using a subquery.\n",
    "\n",
    "SELECT DISTINCT CONCAT( m.firstname, ' ', m.surname ) AS member_name, f.name AS facility_name,\n",
    "CASE WHEN b.memid =0\n",
    "THEN f.guestcost * b.slots\n",
    "ELSE f.membercost * b.slots\n",
    "END AS cost\n",
    "FROM `Bookings` AS b\n",
    "LEFT JOIN `Facilities` AS f ON b.facid = f.facid\n",
    "LEFT JOIN `Members` AS m ON b.memid = m.memid\n",
    "WHERE b.starttime LIKE '2012-09-14%' AND b.bookid\n",
    "IN (SELECT b.bookid\n",
    "FROM `Bookings` AS b\n",
    "LEFT JOIN `Facilities` AS f ON b.facid = f.facid\n",
    "WHERE (b.memid =0 AND f.guestcost * b.slots >30) OR (b.memid >0 AND f.membercost * b.slots >30))\n",
    "ORDER BY cost DESC"
   ]
  },
  {
   "cell_type": "code",
   "execution_count": 65,
   "id": "27972094",
   "metadata": {},
   "outputs": [],
   "source": [
    "import sqlite3\n",
    "connection = sqlite3.connect(\"sqlite_db_pythonsqlite.db\")"
   ]
  },
  {
   "cell_type": "code",
   "execution_count": 57,
   "id": "5239440a",
   "metadata": {},
   "outputs": [
    {
     "data": {
      "text/plain": [
       "<sqlite3.Cursor at 0x7fb8b832df80>"
      ]
     },
     "execution_count": 57,
     "metadata": {},
     "output_type": "execute_result"
    }
   ],
   "source": [
    "cursor"
   ]
  },
  {
   "cell_type": "code",
   "execution_count": 66,
   "id": "70790eb8",
   "metadata": {},
   "outputs": [],
   "source": [
    "cursor = connection.cursor()"
   ]
  },
  {
   "cell_type": "code",
   "execution_count": 67,
   "id": "cc811452",
   "metadata": {},
   "outputs": [
    {
     "name": "stdout",
     "output_type": "stream",
     "text": [
      "[('Pool Table', 270), ('Snooker Table', 240), ('Table Tennis', 180)]\n"
     ]
    }
   ],
   "source": [
    "#Q10: Produce a list of facilities with a total revenue less than 1000. The output of facility name and total \n",
    "#revenue, sorted by revenue. Remember that there's a different cost for guests and members!\n",
    "q10 = cursor.execute(\"SELECT \")\n",
    "\n",
    "q10 = cursor.execute(\"SELECT f.name, SUM(CASE WHEN b.memid=0 THEN f.guestcost * b.slots ELSE f.membercost * b.slots END) AS revenue FROM Facilities f JOIN  Bookings b ON f.facid = b.facid GROUP BY f.name HAVING revenue <1000 ORDER BY revenue DESC\").fetchall()\n",
    "print(q10)"
   ]
  },
  {
   "cell_type": "code",
   "execution_count": 63,
   "id": "4da504a7",
   "metadata": {},
   "outputs": [
    {
     "name": "stdout",
     "output_type": "stream",
     "text": [
      "[('Bader', 'Florence'), ('Baker', 'Anne'), ('Baker', 'Timothy'), ('Boothe', 'Tim'), ('Butters', 'Gerald'), ('Coplin', 'Joan'), ('Crumpet', 'Erica'), ('Dare', 'Nancy'), ('Farrell', 'Jemima'), ('Farrell', 'David'), ('GUEST', 'GUEST'), ('Genting', 'Matthew'), ('Hunt', 'John'), ('Jones', 'David'), ('Jones', 'Douglas'), ('Joplette', 'Janice'), ('Mackenzie', 'Anna'), ('Owen', 'Charles'), ('Pinker', 'David'), ('Purview', 'Millicent'), ('Rownam', 'Tim'), ('Rumney', 'Henrietta'), ('Sarwin', 'Ramnaresh'), ('Smith', 'Darren'), ('Smith', 'Tracy'), ('Smith', 'Jack'), ('Smith', 'Darren'), ('Stibbons', 'Ponder'), ('Tracy', 'Burton'), ('Tupperware', 'Hyacinth'), ('Worthington-Smyth', 'Henry')]\n"
     ]
    }
   ],
   "source": [
    "q11 = cursor.execute(\"SELECT m.surname, m.firstname FROM Members m WHERE recommendedby > 0 ORDER BY m.surname ASC\").fetchall()\n",
    "print(q11)"
   ]
  },
  {
   "cell_type": "code",
   "execution_count": null,
   "id": "8af763b5",
   "metadata": {},
   "outputs": [],
   "source": []
  }
 ],
 "metadata": {
  "kernelspec": {
   "display_name": "Python 3",
   "language": "python",
   "name": "python3"
  },
  "language_info": {
   "codemirror_mode": {
    "name": "ipython",
    "version": 3
   },
   "file_extension": ".py",
   "mimetype": "text/x-python",
   "name": "python",
   "nbconvert_exporter": "python",
   "pygments_lexer": "ipython3",
   "version": "3.8.8"
  }
 },
 "nbformat": 4,
 "nbformat_minor": 5
}
