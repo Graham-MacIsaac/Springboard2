{
 "cells": [
  {
   "cell_type": "code",
   "execution_count": null,
   "id": "a4fb4583",
   "metadata": {},
   "outputs": [],
   "source": [
    "#Q1: Some of the facilities charge a fee to members, but some do not. \n",
    "#Write a SQL query to produce a list of the names of the facilities that do. \n",
    "\n",
    "SELECT * FROM `Facilities` WHERE membercost > 0;"
   ]
  },
  {
   "cell_type": "code",
   "execution_count": null,
   "id": "228c4b44",
   "metadata": {},
   "outputs": [],
   "source": [
    "#Q2: How many facilities do not charge a fee to members?\n",
    "\n",
    "6"
   ]
  },
  {
   "cell_type": "code",
   "execution_count": null,
   "id": "90e6bf75",
   "metadata": {},
   "outputs": [],
   "source": [
    "#Q3: Write an SQL query to show a list of facilities that charge a fee to members,\n",
    "#where the fee is less than 20% of the facility's monthly maintenance cost.\n",
    "#Return the facid, facility name, member cost, and monthly maintenance of the\n",
    "#facilities in question.\n",
    "\n",
    "SELECT facid, name, membercost, monthlymaintenance \n",
    "FROM `Facilities` \n",
    "WHERE membercost > 0 \n",
    "AND (membercost/monthlymaintenance) < 0.2;"
   ]
  },
  {
   "cell_type": "code",
   "execution_count": null,
   "id": "84b51bf9",
   "metadata": {},
   "outputs": [],
   "source": [
    "#Q4: Write an SQL query to retrieve the details of facilities with ID 1 and 5.\n",
    "#Try writing the query without using the OR operator\n",
    "\n",
    "SELECT *\n",
    "FROM `Facilities`\n",
    "WHERE facid\n",
    "IN ( 1, 5 )"
   ]
  },
  {
   "cell_type": "code",
   "execution_count": null,
   "id": "07a927cc",
   "metadata": {},
   "outputs": [],
   "source": [
    "#Q5: Produce a list of facilities, with each labelled as 'cheap' or 'expensive', depending on if their \n",
    "#monthly maintenance cost is more than $100. Return the name and monthly maintenance of the facilities in question.\n",
    "\n",
    "SELECT name, monthlymaintenance,\n",
    "CASE WHEN monthlymaintenance <=100\n",
    "THEN 'cheap'\n",
    "ELSE 'expensive'\n",
    "END AS label\n",
    "FROM `Facilities`"
   ]
  },
  {
   "cell_type": "code",
   "execution_count": null,
   "id": "c27ce97e",
   "metadata": {},
   "outputs": [],
   "source": [
    "#Q6: You'd like to get the first and last name of the last member(s)\n",
    "#who signed up. Try not to use the LIMIT clause for your solution.\n",
    "\n",
    "SELECT surname, firstname\n",
    "FROM `Members`\n",
    "WHERE joindate = (\n",
    "SELECT MAX( joindate )\n",
    "FROM `Members` )"
   ]
  },
  {
   "cell_type": "code",
   "execution_count": null,
   "id": "dc31ffa6",
   "metadata": {},
   "outputs": [],
   "source": [
    "#Q7: Produce a list of all members who have used a tennis court.\n",
    "#Include in your output the name of the court, and the name of the member\n",
    "#formatted as a single column. Ensure no duplicate data, and order by\n",
    "#the member name.\n",
    "\n",
    "SELECT DISTINCT CONCAT( m.firstname, ' ', m.surname ) AS member_name, f.name AS facility_name\n",
    "FROM `Bookings` AS b\n",
    "LEFT JOIN `Facilities` AS f ON b.facid = f.facid\n",
    "LEFT JOIN `Members` AS m ON b.memid = m.memid\n",
    "WHERE f.name LIKE 'Tennis%'\n",
    "ORDER BY member_name"
   ]
  },
  {
   "cell_type": "code",
   "execution_count": null,
   "id": "bafdec09",
   "metadata": {},
   "outputs": [],
   "source": [
    "#Q8: Produce a list of bookings on the day of 2012-09-14 which will cost the member (or guest) more than $30. \n",
    "#Remember that guests have different costs to members (the listed costs are per half-hour 'slot'), and \n",
    "#the guest user's ID is always 0. Include in your output the name of the facility, the name of the member formatted \n",
    "#as a single column, and the cost. Order by descending cost, and do not use any subqueries\n",
    "\n",
    "SELECT DISTINCT CONCAT( m.firstname, ' ', m.surname ) AS member_name, f.name AS facility_name,\n",
    "CASE WHEN b.memid =0\n",
    "THEN f.guestcost * b.slots\n",
    "ELSE f.membercost * b.slots\n",
    "END AS cost\n",
    "FROM `Bookings` AS b\n",
    "LEFT JOIN `Facilities` AS f ON b.facid = f.facid\n",
    "LEFT JOIN `Members` AS m ON b.memid = m.memid\n",
    "WHERE b.starttime LIKE '2012-09-14%'\n",
    "AND 30 <\n",
    "CASE WHEN b.memid =0\n",
    "THEN f.guestcost * b.slots\n",
    "ELSE f.membercost * b.slots\n",
    "END\n",
    "ORDER BY cost DESC"
   ]
  },
  {
   "cell_type": "code",
   "execution_count": null,
   "id": "c1623cf4",
   "metadata": {},
   "outputs": [],
   "source": [
    "#Q9: This time, produce the same result as in Q8, but using a subquery.\n",
    "\n",
    "SELECT DISTINCT CONCAT( m.firstname, ' ', m.surname ) AS member_name, f.name AS facility_name,\n",
    "CASE WHEN b.memid =0\n",
    "THEN f.guestcost * b.slots\n",
    "ELSE f.membercost * b.slots\n",
    "END AS cost\n",
    "FROM `Bookings` AS b\n",
    "LEFT JOIN `Facilities` AS f ON b.facid = f.facid\n",
    "LEFT JOIN `Members` AS m ON b.memid = m.memid\n",
    "WHERE b.starttime LIKE '2012-09-14%' AND b.bookid\n",
    "IN (SELECT b.bookid\n",
    "FROM `Bookings` AS b\n",
    "LEFT JOIN `Facilities` AS f ON b.facid = f.facid\n",
    "WHERE (b.memid =0 AND f.guestcost * b.slots >30) OR (b.memid >0 AND f.membercost * b.slots >30))\n",
    "ORDER BY cost DESC"
   ]
  },
  {
   "cell_type": "code",
   "execution_count": null,
   "id": "1099a3ba",
   "metadata": {},
   "outputs": [],
   "source": [
    "#Q10: Produce a list of facilities with a total revenue less than 1000. The output of facility name and total \n",
    "#revenue, sorted by revenue. Remember that there's a different cost for guests and members!\n",
    "SELECT f.name,\n",
    "SUM(CASE FROM Facilities f Bookings b)\n",
    "SELECT f.name,\n",
    "SUM(CASE WHEN b.memid=0 THEN f.guestcost * b.slots ELSE f.membercost * b.slots END) AS revenue\n",
    "FROM Facilities f\n",
    "JOIN Bookings b\n",
    "ON f.facid = b.facid\n",
    "GROUP BY f.name HAVING revenue <1000\n",
    "ORDER BY revenue DESC\n"
   ]
  },
  {
   "cell_type": "code",
   "execution_count": 2,
   "id": "27972094",
   "metadata": {},
   "outputs": [],
   "source": [
    "import sqlite3\n",
    "connection = sqlite3.connect(\"sqlite_db_pythonsqlite.db\")"
   ]
  },
  {
   "cell_type": "code",
   "execution_count": 3,
   "id": "70790eb8",
   "metadata": {},
   "outputs": [],
   "source": [
    "cursor = connection.cursor()"
   ]
  },
  {
   "cell_type": "code",
   "execution_count": 1,
   "id": "cc811452",
   "metadata": {},
   "outputs": [
    {
     "ename": "NameError",
     "evalue": "name 'cursor' is not defined",
     "output_type": "error",
     "traceback": [
      "\u001b[0;31m---------------------------------------------------------------------------\u001b[0m",
      "\u001b[0;31mNameError\u001b[0m                                 Traceback (most recent call last)",
      "\u001b[0;32m<ipython-input-1-02c332520e83>\u001b[0m in \u001b[0;36m<module>\u001b[0;34m\u001b[0m\n\u001b[1;32m      1\u001b[0m \u001b[0;31m#Q10: Produce a list of facilities with a total revenue less than 1000. The output of facility name and total\u001b[0m\u001b[0;34m\u001b[0m\u001b[0;34m\u001b[0m\u001b[0;34m\u001b[0m\u001b[0m\n\u001b[1;32m      2\u001b[0m \u001b[0;31m#revenue, sorted by revenue. Remember that there's a different cost for guests and members!\u001b[0m\u001b[0;34m\u001b[0m\u001b[0;34m\u001b[0m\u001b[0;34m\u001b[0m\u001b[0m\n\u001b[0;32m----> 3\u001b[0;31m \u001b[0mq10\u001b[0m \u001b[0;34m=\u001b[0m \u001b[0mcursor\u001b[0m\u001b[0;34m.\u001b[0m\u001b[0mexecute\u001b[0m\u001b[0;34m(\u001b[0m\u001b[0;34m\"SELECT f.name, SUM(CASE ) FROM Facilities f Bookings b\"\u001b[0m\u001b[0;34m)\u001b[0m\u001b[0;34m\u001b[0m\u001b[0;34m\u001b[0m\u001b[0m\n\u001b[0m\u001b[1;32m      4\u001b[0m \u001b[0;34m\u001b[0m\u001b[0m\n\u001b[1;32m      5\u001b[0m \u001b[0mq10\u001b[0m \u001b[0;34m=\u001b[0m \u001b[0mcursor\u001b[0m\u001b[0;34m.\u001b[0m\u001b[0mexecute\u001b[0m\u001b[0;34m(\u001b[0m\u001b[0;34m\"SELECT f.name, SUM(CASE WHEN b.memid=0 THEN f.guestcost * b.slots ELSE f.membercost * b.slots END) AS revenue FROM Facilities f JOIN Bookings b ON f.facid = b.facid GROUP BY f.name HAVING revenue <1000 ORDER BY revenue DESC\"\u001b[0m\u001b[0;34m)\u001b[0m\u001b[0;34m.\u001b[0m\u001b[0mfetchall\u001b[0m\u001b[0;34m(\u001b[0m\u001b[0;34m)\u001b[0m\u001b[0;34m\u001b[0m\u001b[0;34m\u001b[0m\u001b[0m\n",
      "\u001b[0;31mNameError\u001b[0m: name 'cursor' is not defined"
     ]
    }
   ],
   "source": [
    "#Q10 Produce a list of facilities with a total revenue less than 1000. The output of facility name and total revenue,\n",
    "#sorted by revenue. Remember that there's a different cost for guests and members!\n",
    "select name, sum(case when memid = 0 then slots * guestcost else slots * membercost end)\n",
    "\n",
    "#Q11: Produce a report of members and who recommended them in alphabetic surname,firstname order\n",
    "select concat(a.surname, ', ', a.firstname) as members, concat(b.surname, ', ', b.firstname) as recommended_by from Members a, Members b where a.recommendedby >0 and a.recommendedby = b.memid order by b.surname;\n",
    "\n",
    "#Q12: Find the facilities with their usage by member, but not guests\n",
    "select name, concat(firstname, ' ', surname) as member_name, count(surname) as 'usage' from Bookings left join Facilities using(facid) left join Members using(memid) where memid != 0 group by name, member_name;\n",
    "\n",
    "#Q13: Find the facilities usage by month, but not guests\n",
    "select extract(month from starttime) as month, name, count(name) as 'usage' from Bookings left join Facilities using(facid)where memid != 0 group by month, name;"
   ]
  }
 ],
 "metadata": {
  "kernelspec": {
   "display_name": "Python 3 (ipykernel)",
   "language": "python",
   "name": "python3"
  },
  "language_info": {
   "codemirror_mode": {
    "name": "ipython",
    "version": 3
   },
   "file_extension": ".py",
   "mimetype": "text/x-python",
   "name": "python",
   "nbconvert_exporter": "python",
   "pygments_lexer": "ipython3",
   "version": "3.8.8"
  }
 },
 "nbformat": 4,
 "nbformat_minor": 5
}
